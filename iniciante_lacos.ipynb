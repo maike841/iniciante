{
  "nbformat": 4,
  "nbformat_minor": 0,
  "metadata": {
    "colab": {
      "provenance": [],
      "authorship_tag": "ABX9TyP9NgB1SokDNBqflQSvciPn",
      "include_colab_link": true
    },
    "kernelspec": {
      "name": "python3",
      "display_name": "Python 3"
    },
    "language_info": {
      "name": "python"
    }
  },
  "cells": [
    {
      "cell_type": "markdown",
      "metadata": {
        "id": "view-in-github",
        "colab_type": "text"
      },
      "source": [
        "<a href=\"https://colab.research.google.com/github/maike841/iniciante/blob/main/iniciante_lacos.ipynb\" target=\"_parent\"><img src=\"https://colab.research.google.com/assets/colab-badge.svg\" alt=\"Open In Colab\"/></a>"
      ]
    },
    {
      "cell_type": "code",
      "execution_count": 1,
      "metadata": {
        "colab": {
          "base_uri": "https://localhost:8080/"
        },
        "id": "31l8gcG3MStj",
        "outputId": "6d7f8b04-551e-4e42-c35d-a9d7beec4761"
      },
      "outputs": [
        {
          "output_type": "stream",
          "name": "stdout",
          "text": [
            "hi, my name is:maike and my age is:23\n"
          ]
        }
      ],
      "source": [
        "var = 'maike'\n",
        "var2 = 23\n",
        "print('hi, my name is:' + var + ' and my age is:' + str(var2))"
      ]
    },
    {
      "cell_type": "code",
      "source": [
        "nome = 'Maike Roberto Rodrigues'\n",
        "empresa = 'bradesco'\n",
        "qtde_funcionarios = 94760\n",
        "mediaMensalidade = 856.29\n",
        "print(nome + \" trabalha na empresa: \" + empresa)\n",
        "print('possui: ', qtde_funcionarios, 'funcionários.')\n",
        "print('a média de mensalidade é de: ', str(mediaMensalidade))"
      ],
      "metadata": {
        "colab": {
          "base_uri": "https://localhost:8080/"
        },
        "id": "s-Pv8Op8Oa8U",
        "outputId": "892f5a64-7e4c-4b6d-f7a7-bbef39005b5e"
      },
      "execution_count": 2,
      "outputs": [
        {
          "output_type": "stream",
          "name": "stdout",
          "text": [
            "Maike Roberto Rodrigues trabalha na empresa: bradesco\n",
            "possui:  94760 funcionários.\n",
            "a média de mensalidade é de:  856.29\n"
          ]
        }
      ]
    },
    {
      "cell_type": "code",
      "source": [
        "nome = input('Digite um funcionário: ')\n",
        "empresa = input('digite a instituição: ')\n",
        "qtde_funcionarios = int(input('digite a qtde de func: '))\n",
        "mediaMensalidade = float(input('digite a mensalidade: '))\n",
        "print(nome + \" trabalha na empresa: \" + empresa)\n",
        "print('possui: ', qtde_funcionarios, 'funcionários.')\n",
        "print('a média de mensalidade é de: ', str(mediaMensalidade))"
      ],
      "metadata": {
        "colab": {
          "base_uri": "https://localhost:8080/"
        },
        "id": "SlckteTfQOyu",
        "outputId": "f26b8742-0311-4bbc-ee2b-063771b54edb"
      },
      "execution_count": 3,
      "outputs": [
        {
          "output_type": "stream",
          "name": "stdout",
          "text": [
            "Digite um funcionário: maike\n",
            "digite a instituição: bra\n",
            "digite a qtde de func: 4\n",
            "digite a mensalidade: 900\n",
            "maike trabalha na empresa: bra\n",
            "possui:  4 funcionários.\n",
            "a média de mensalidade é de:  900.0\n"
          ]
        }
      ]
    },
    {
      "cell_type": "code",
      "source": [
        "print(type(nome))\n",
        "print(type(qtde_funcionarios))\n",
        "print(type(mediaMensalidade))"
      ],
      "metadata": {
        "colab": {
          "base_uri": "https://localhost:8080/"
        },
        "id": "2_jHWg62Obnd",
        "outputId": "45fd7118-2fbb-4d66-d632-678aa07108d3"
      },
      "execution_count": 4,
      "outputs": [
        {
          "output_type": "stream",
          "name": "stdout",
          "text": [
            "<class 'str'>\n",
            "<class 'int'>\n",
            "<class 'float'>\n"
          ]
        }
      ]
    },
    {
      "cell_type": "code",
      "source": [
        "nome = input('digite o nome: ')\n",
        "idade = int(input('digite a idade: '))\n",
        "doenca = input('possui doenca infecciosa? ').upper()\n",
        "if idade >=65:\n",
        "  print('o paciente ', nome, 'possui prioridade')\n",
        "elif doenca == 'SIM':\n",
        "  print('o paciente ', nome, 'DEVE SER DIRECIONADO A SALA RESERVADA')\n",
        "else:\n",
        "  print('o paciente', nome, 'NÃO possui prioridade')"
      ],
      "metadata": {
        "colab": {
          "base_uri": "https://localhost:8080/"
        },
        "id": "tNpYuG6FOe1p",
        "outputId": "7881e933-42f1-4c2c-c2cc-fda24459ce3d"
      },
      "execution_count": 5,
      "outputs": [
        {
          "output_type": "stream",
          "name": "stdout",
          "text": [
            "digite o nome: maike\n",
            "digite a idade: 40\n",
            "possui doenca infecciosa? nao\n",
            "o paciente maike NÃO possui prioridade\n"
          ]
        }
      ]
    },
    {
      "cell_type": "code",
      "source": [
        "tabuada = int(input('Digite um numero: '))\n",
        "print('tabuada do numero: ', tabuada)\n",
        "for valor in range(1,11,1):\n",
        "  print(str(tabuada), \" x \",  str(valor), ' = ', str((tabuada*valor)))"
      ],
      "metadata": {
        "colab": {
          "base_uri": "https://localhost:8080/"
        },
        "id": "qcVBL57POfnq",
        "outputId": "41c96a52-fd7a-41ec-eeeb-3b575b9fb36c"
      },
      "execution_count": 6,
      "outputs": [
        {
          "output_type": "stream",
          "name": "stdout",
          "text": [
            "Digite um numero: 4\n",
            "tabuada do numero:  4\n",
            "4  x  1  =  4\n",
            "4  x  2  =  8\n",
            "4  x  3  =  12\n",
            "4  x  4  =  16\n",
            "4  x  5  =  20\n",
            "4  x  6  =  24\n",
            "4  x  7  =  28\n",
            "4  x  8  =  32\n",
            "4  x  9  =  36\n",
            "4  x  10  =  40\n"
          ]
        }
      ]
    },
    {
      "cell_type": "code",
      "source": [
        "inventario = []\n",
        "resposta = 'S'\n",
        "while resposta == 'S':\n",
        "  inventario.append(input('equipamento: '))\n",
        "  inventario.append(float(input('valor: ')))\n",
        "  resposta = input(\"digite \\\"S\\\" para continuar: \").upper()\n",
        "\n",
        "for elemento in inventario:\n",
        "    print(elemento)\n"
      ],
      "metadata": {
        "colab": {
          "base_uri": "https://localhost:8080/"
        },
        "id": "rRpzmTPrOgGh",
        "outputId": "119e5569-3d3b-4244-e4af-9264e2beab60"
      },
      "execution_count": 7,
      "outputs": [
        {
          "output_type": "stream",
          "name": "stdout",
          "text": [
            "equipamento: pc\n",
            "valor: 400\n",
            "digite \"S\" para continuar: s\n",
            "equipamento: nb\n",
            "valor: 400\n",
            "digite \"S\" para continuar: tv\n",
            "pc\n",
            "400.0\n",
            "nb\n",
            "400.0\n"
          ]
        }
      ]
    },
    {
      "cell_type": "code",
      "source": [
        "inventario = []\n",
        "equipamento = []\n",
        "valor = []\n",
        "resposta = 'S'\n",
        "while resposta == 'S':\n",
        "  equipamento.append(input('equipamento: '))\n",
        "  valor.append(int(input('valor: ')))\n",
        "  resposta = input(\"digite \\\"S\\\" para continuar: \").upper()\n",
        "\n",
        "for elemento in equipamento:\n",
        "    print(elemento)\n",
        "for elemento in valor:\n",
        "    print(elemento)"
      ],
      "metadata": {
        "colab": {
          "base_uri": "https://localhost:8080/"
        },
        "id": "a0DIwAr6JU69",
        "outputId": "a57d2525-88ba-4eff-ef06-1bab96e0c513"
      },
      "execution_count": 8,
      "outputs": [
        {
          "output_type": "stream",
          "name": "stdout",
          "text": [
            "equipamento: 700\n",
            "valor: 700\n",
            "digite \"S\" para continuar: s\n",
            "equipamento: dvd\n",
            "valor: 200\n",
            "digite \"S\" para continuar: n\n",
            "700\n",
            "dvd\n",
            "700\n",
            "200\n"
          ]
        }
      ]
    },
    {
      "cell_type": "code",
      "source": [
        "for indice in range(0,len(equipamento)):\n",
        "  print(' equipamento: ', (indice +1))\n",
        "  print('nome: ', equipamento[indice])\n",
        "  print('valor: ', valor[indice])\n"
      ],
      "metadata": {
        "colab": {
          "base_uri": "https://localhost:8080/"
        },
        "id": "psRiMlKvOgaO",
        "outputId": "25d9d3ac-ed9b-49fc-9393-a66793aaab5f"
      },
      "execution_count": 9,
      "outputs": [
        {
          "output_type": "stream",
          "name": "stdout",
          "text": [
            " equipamento:  1\n",
            "nome:  700\n",
            "valor:  700\n",
            " equipamento:  2\n",
            "nome:  dvd\n",
            "valor:  200\n"
          ]
        }
      ]
    },
    {
      "cell_type": "code",
      "source": [
        "busca = input('\\nDigite o nome do equipamento: ')\n",
        "for indice in range(0,len(equipamento)):\n",
        "  if busca == equipamento[indice]:\n",
        "    print('valor: ', valor[indice])"
      ],
      "metadata": {
        "colab": {
          "base_uri": "https://localhost:8080/"
        },
        "id": "k4QugcbCOgrs",
        "outputId": "b9257741-be2b-4788-acb0-6fed2674c97b"
      },
      "execution_count": 15,
      "outputs": [
        {
          "output_type": "stream",
          "name": "stdout",
          "text": [
            "\n",
            "Digite o nome do equipamento: dvd\n",
            "valor:  200\n"
          ]
        }
      ]
    },
    {
      "cell_type": "code",
      "source": [
        "depreciacao = input('digite o nome do equipamento a ser depreciado: ')\n",
        "for indice in range(0, len(equipamento)):\n",
        "  if depreciacao == equipamento[indice]:\n",
        "    print('valor antigo: ', valor[indice])\n",
        "    valor[indice] = valor[indice] * 0.9\n",
        "    print('novo valor: ', valor[indice]) "
      ],
      "metadata": {
        "colab": {
          "base_uri": "https://localhost:8080/"
        },
        "id": "rPnz1oIHOg7X",
        "outputId": "c325db2a-344c-4fb3-83d5-772a4b1e53b4"
      },
      "execution_count": 16,
      "outputs": [
        {
          "output_type": "stream",
          "name": "stdout",
          "text": [
            "digite o nome do equipamento a ser depreciado: dvd\n",
            "valor antigo:  200\n",
            "novo valor:  180.0\n"
          ]
        }
      ]
    },
    {
      "cell_type": "code",
      "source": [
        "serial = int(input('digite um valor a deletar: '))\n",
        "for indice in range(0, len(equipamento)):\n",
        "  if valor[indice] == serial:\n",
        "      del equipamento[indice]\n",
        "      del valor[indice]\n",
        "      break\n",
        "for indice in range(0,len(equipamento)):\n",
        "  print('equipamento: ', (indice +1))\n",
        "  print('nome: ', equipamento[indice])\n"
      ],
      "metadata": {
        "colab": {
          "base_uri": "https://localhost:8080/"
        },
        "id": "CPdy5XmJOhJ_",
        "outputId": "fa4a5f0a-985b-4697-eb70-f8aabc16cfc3"
      },
      "execution_count": 14,
      "outputs": [
        {
          "output_type": "stream",
          "name": "stdout",
          "text": [
            "digite um valor a deletar: 700\n",
            "equipamento:  1\n",
            "nome:  dvd\n"
          ]
        }
      ]
    },
    {
      "cell_type": "code",
      "source": [
        "valores = [200, 400, 700*2]\n",
        "for elemento in inventario:\n",
        "  valores.append(elemento[1])\n",
        "if len(valores) > 0:\n",
        "  print('o mais caro custa: ', max(valores))\n",
        "  print('o mais barato custa: ', min(valores))"
      ],
      "metadata": {
        "colab": {
          "base_uri": "https://localhost:8080/"
        },
        "id": "6mj2LWdecnCk",
        "outputId": "8d92d6e4-3047-4378-b843-8f7a7f0ea489"
      },
      "execution_count": 22,
      "outputs": [
        {
          "output_type": "stream",
          "name": "stdout",
          "text": [
            "o mais caro custa:  1400\n",
            "o mais barato custa:  200\n"
          ]
        }
      ]
    },
    {
      "cell_type": "code",
      "source": [],
      "metadata": {
        "id": "sLtc31CmeyVY"
      },
      "execution_count": null,
      "outputs": []
    },
    {
      "cell_type": "code",
      "source": [],
      "metadata": {
        "id": "aKwKpVpde0FI"
      },
      "execution_count": null,
      "outputs": []
    },
    {
      "cell_type": "code",
      "source": [],
      "metadata": {
        "id": "hsVY1d6re0yz"
      },
      "execution_count": null,
      "outputs": []
    },
    {
      "cell_type": "code",
      "source": [],
      "metadata": {
        "id": "btYxpt64e1LO"
      },
      "execution_count": null,
      "outputs": []
    },
    {
      "cell_type": "code",
      "source": [],
      "metadata": {
        "id": "Fo3dwtKDe1fu"
      },
      "execution_count": null,
      "outputs": []
    },
    {
      "cell_type": "markdown",
      "source": [
        "# Nova seção\n",
        "\n",
        "---\n",
        "\n"
      ],
      "metadata": {
        "id": "O04Us2UrOWhv"
      }
    }
  ]
}