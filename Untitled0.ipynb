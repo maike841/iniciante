{
  "nbformat": 4,
  "nbformat_minor": 0,
  "metadata": {
    "colab": {
      "provenance": [],
      "authorship_tag": "ABX9TyND/z6c9695KRg4GQnwDrmX",
      "include_colab_link": true
    },
    "kernelspec": {
      "name": "python3",
      "display_name": "Python 3"
    },
    "language_info": {
      "name": "python"
    }
  },
  "cells": [
    {
      "cell_type": "markdown",
      "metadata": {
        "id": "view-in-github",
        "colab_type": "text"
      },
      "source": [
        "<a href=\"https://colab.research.google.com/github/maike841/iniciante/blob/main/Untitled0.ipynb\" target=\"_parent\"><img src=\"https://colab.research.google.com/assets/colab-badge.svg\" alt=\"Open In Colab\"/></a>"
      ]
    },
    {
      "cell_type": "code",
      "execution_count": 7,
      "metadata": {
        "colab": {
          "base_uri": "https://localhost:8080/"
        },
        "id": "31l8gcG3MStj",
        "outputId": "d5dbe087-21f1-45c2-bef8-8cb44b8f346b"
      },
      "outputs": [
        {
          "output_type": "stream",
          "name": "stdout",
          "text": [
            "hi, my name is:maike and my age is:23\n"
          ]
        }
      ],
      "source": [
        "var = 'maike'\n",
        "var2 = 23\n",
        "print('hi, my name is:' + var + ' and my age is:' + str(var2))"
      ]
    },
    {
      "cell_type": "code",
      "source": [
        "nome = 'Maike Roberto Rodrigues'\n",
        "empresa = 'bradesco'\n",
        "qtde_funcionarios = 94760\n",
        "mediaMensalidade = 856.29\n",
        "print(nome + \" trabalha na empresa: \" + empresa)\n",
        "print('possui: ', qtde_funcionarios, 'funcionários.')\n",
        "print('a média de mensalidade é de: ', str(mediaMensalidade))"
      ],
      "metadata": {
        "colab": {
          "base_uri": "https://localhost:8080/"
        },
        "id": "s-Pv8Op8Oa8U",
        "outputId": "27a2b193-55a4-4419-c8f9-38ef2e4ed10d"
      },
      "execution_count": 10,
      "outputs": [
        {
          "output_type": "stream",
          "name": "stdout",
          "text": [
            "Maike Roberto Rodrigues trabalha na empresa: bradesco\n",
            "possui:  94760 funcionários.\n",
            "a média de mensalidade é de:  856.29\n"
          ]
        }
      ]
    },
    {
      "cell_type": "code",
      "source": [
        "nome = input('Digite um funcionário: ')\n",
        "empresa = input('digite a instituição: ')\n",
        "qtde_funcionarios = int(input('digite a qtde de func: '))\n",
        "mediaMensalidade = float(input('digite a mensalidade: '))\n",
        "print(nome + \" trabalha na empresa: \" + empresa)\n",
        "print('possui: ', qtde_funcionarios, 'funcionários.')\n",
        "print('a média de mensalidade é de: ', str(mediaMensalidade))"
      ],
      "metadata": {
        "colab": {
          "base_uri": "https://localhost:8080/"
        },
        "id": "SlckteTfQOyu",
        "outputId": "916a480a-c4c3-44dc-bc60-c0f08b4c89d6"
      },
      "execution_count": 13,
      "outputs": [
        {
          "output_type": "stream",
          "name": "stdout",
          "text": [
            "Digite um funcionário: maike\n",
            "digite a instituição: bradesco\n",
            "digite a qtde de func: 49\n",
            "digite a mensalidade: 49.79\n",
            "maike trabalha na empresa: bradesco\n",
            "possui:  49 funcionários.\n",
            "a média de mensalidade é de:  49.79\n"
          ]
        }
      ]
    },
    {
      "cell_type": "code",
      "source": [
        "print(type(nome))\n",
        "print(type(qtde_funcionarios))\n",
        "print(type(mediaMensalidade))"
      ],
      "metadata": {
        "colab": {
          "base_uri": "https://localhost:8080/"
        },
        "id": "2_jHWg62Obnd",
        "outputId": "ae344ea6-43f6-4c12-c99a-8b7310f411a4"
      },
      "execution_count": 16,
      "outputs": [
        {
          "output_type": "stream",
          "name": "stdout",
          "text": [
            "<class 'str'>\n",
            "<class 'int'>\n",
            "<class 'float'>\n"
          ]
        }
      ]
    },
    {
      "cell_type": "code",
      "source": [
        "nome = input('digite o nome: ')\n",
        "idade = int(input('digite a idade: '))\n",
        "doenca = input('possui doenca infecciosa? ').upper()\n",
        "if idade >=65:\n",
        "  print('o paciente ', nome, 'possui prioridade')\n",
        "elif doenca == 'SIM':\n",
        "  print('o paciente ', nome, 'DEVE SER DIRECIONADO A SALA RESERVADA')\n",
        "else:\n",
        "  print('o paciente', nome, 'NÃO possui prioridade')"
      ],
      "metadata": {
        "colab": {
          "base_uri": "https://localhost:8080/"
        },
        "id": "tNpYuG6FOe1p",
        "outputId": "2ba802e4-658a-437c-cb75-4627e7547e41"
      },
      "execution_count": 20,
      "outputs": [
        {
          "output_type": "stream",
          "name": "stdout",
          "text": [
            "digite o nome: maike\n",
            "digite a idade: 70\n",
            "possui doenca infecciosa? sim\n",
            "o paciente  maike possui prioridade\n"
          ]
        }
      ]
    },
    {
      "cell_type": "code",
      "source": [],
      "metadata": {
        "id": "qcVBL57POfnq"
      },
      "execution_count": null,
      "outputs": []
    },
    {
      "cell_type": "code",
      "source": [],
      "metadata": {
        "id": "rRpzmTPrOgGh"
      },
      "execution_count": null,
      "outputs": []
    },
    {
      "cell_type": "code",
      "source": [],
      "metadata": {
        "id": "psRiMlKvOgaO"
      },
      "execution_count": null,
      "outputs": []
    },
    {
      "cell_type": "code",
      "source": [],
      "metadata": {
        "id": "k4QugcbCOgrs"
      },
      "execution_count": null,
      "outputs": []
    },
    {
      "cell_type": "code",
      "source": [],
      "metadata": {
        "id": "rPnz1oIHOg7X"
      },
      "execution_count": null,
      "outputs": []
    },
    {
      "cell_type": "code",
      "source": [],
      "metadata": {
        "id": "CPdy5XmJOhJ_"
      },
      "execution_count": null,
      "outputs": []
    },
    {
      "cell_type": "markdown",
      "source": [
        "# Nova seção"
      ],
      "metadata": {
        "id": "O04Us2UrOWhv"
      }
    }
  ]
}